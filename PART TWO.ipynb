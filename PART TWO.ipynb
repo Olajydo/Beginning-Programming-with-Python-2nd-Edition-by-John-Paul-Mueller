{
 "cells": [
  {
   "cell_type": "code",
   "execution_count": 3,
   "id": "5d17e658",
   "metadata": {
    "scrolled": true
   },
   "outputs": [
    {
     "name": "stdout",
     "output_type": "stream",
     "text": [
      "2\n",
      "6\n",
      "10\n",
      "14\n",
      "18\n",
      "22\n",
      "26\n",
      "30\n",
      "34\n",
      "38\n",
      "42\n"
     ]
    }
   ],
   "source": [
    "for item in range(2, 46, 4):\n",
    "    print(item)"
   ]
  },
  {
   "cell_type": "code",
   "execution_count": 4,
   "id": "0b9c1c9a",
   "metadata": {},
   "outputs": [
    {
     "name": "stdout",
     "output_type": "stream",
     "text": [
      "0\n",
      "1\n",
      "2\n",
      "4\n"
     ]
    }
   ],
   "source": [
    "for x in range(10):\n",
    "    if x == 3:\n",
    "        continue\n",
    "        \n",
    "    if x==5:\n",
    "        break\n",
    "    print(x)"
   ]
  },
  {
   "cell_type": "code",
   "execution_count": 7,
   "id": "48a73e53",
   "metadata": {},
   "outputs": [],
   "source": [
    "increasing_pairs = [(x, y)\n",
    "                   for x in range(10)\n",
    "                   for y in range(10)]"
   ]
  },
  {
   "cell_type": "code",
   "execution_count": 17,
   "id": "1faf8abd",
   "metadata": {},
   "outputs": [
    {
     "name": "stdout",
     "output_type": "stream",
     "text": [
      "5\n",
      "8\n"
     ]
    }
   ],
   "source": [
    "import random\n",
    "s = random.randrange(10)\n",
    "d = random.randrange(3,6)\n",
    "print(d)\n",
    "print(s)"
   ]
  },
  {
   "cell_type": "code",
   "execution_count": 23,
   "id": "46a41265",
   "metadata": {},
   "outputs": [
    {
     "name": "stdout",
     "output_type": "stream",
     "text": [
      "[7, 765, 4, 22, 8, 0, 9, 5, 4, 2]\n"
     ]
    }
   ],
   "source": [
    "up_to_ten = [2,4,5,7,8,9,22,765,4,0]\n",
    "random.shuffle(up_to_ten)\n",
    "print(up_to_ten)"
   ]
  },
  {
   "cell_type": "code",
   "execution_count": 3,
   "id": "d0af0391",
   "metadata": {},
   "outputs": [
    {
     "name": "stdout",
     "output_type": "stream",
     "text": [
      "jide\n"
     ]
    }
   ],
   "source": [
    "import random\n",
    "my_best_friend = random.choice([\"alice\", \"jide\", \"pholly\", \"bob\"])\n",
    "print(my_best_friend)"
   ]
  },
  {
   "cell_type": "code",
   "execution_count": 2,
   "id": "0ded79ed",
   "metadata": {},
   "outputs": [],
   "source": [
    "class Set:\n",
    "    \n",
    "    def __init__(self, values=None):\n",
    "        self.dict = {}\n",
    "        if values is not None:\n",
    "            for value in values:\n",
    "                self.add(value)\n",
    "                \n",
    "    def __repr__(self):\n",
    "        return \"Set: \" + str(self.dict.keys())\n",
    "\n",
    "    def add(self,value):\n",
    "        self.dict[value] = True\n",
    "        \n",
    "    def contains(self, value):\n",
    "        return value in self.dict\n",
    "    \n",
    "    def remove(self, value):\n",
    "        del self.dict[value]"
   ]
  },
  {
   "cell_type": "code",
   "execution_count": 6,
   "id": "b6bb80fd",
   "metadata": {},
   "outputs": [
    {
     "name": "stdout",
     "output_type": "stream",
     "text": [
      "True\n"
     ]
    }
   ],
   "source": [
    "s= Set([1,2,3])\n",
    "s.add(4)\n",
    "print(s.contains(4))\n",
    "s.remove(3)"
   ]
  },
  {
   "cell_type": "code",
   "execution_count": 7,
   "id": "7afdd481",
   "metadata": {},
   "outputs": [
    {
     "name": "stdout",
     "output_type": "stream",
     "text": [
      "Set: dict_keys([1, 2, 4])\n"
     ]
    }
   ],
   "source": [
    "print(s)"
   ]
  },
  {
   "cell_type": "code",
   "execution_count": null,
   "id": "9f57c6f8",
   "metadata": {},
   "outputs": [],
   "source": []
  },
  {
   "cell_type": "code",
   "execution_count": 13,
   "id": "647bb755",
   "metadata": {},
   "outputs": [],
   "source": [
    "def two_to_the(power):\n",
    "    return exp(2, power)"
   ]
  },
  {
   "cell_type": "code",
   "execution_count": 15,
   "id": "11c80465",
   "metadata": {},
   "outputs": [
    {
     "name": "stdout",
     "output_type": "stream",
     "text": [
      "16\n"
     ]
    }
   ],
   "source": [
    "from functools import partial\n",
    "two_to_the = partial(exp, 2)\n",
    "print(two_to_the(4))"
   ]
  },
  {
   "cell_type": "code",
   "execution_count": 16,
   "id": "f26a9e83",
   "metadata": {},
   "outputs": [
    {
     "name": "stdout",
     "output_type": "stream",
     "text": [
      "25\n"
     ]
    }
   ],
   "source": [
    "square_of = partial(exp, power=2)\n",
    "print(square_of(5))"
   ]
  },
  {
   "cell_type": "code",
   "execution_count": 17,
   "id": "4c14c533",
   "metadata": {},
   "outputs": [],
   "source": [
    "def double(x):\n",
    "    return 2*x"
   ]
  },
  {
   "cell_type": "code",
   "execution_count": 18,
   "id": "724957e4",
   "metadata": {},
   "outputs": [
    {
     "name": "stdout",
     "output_type": "stream",
     "text": [
      "[2, 4, 6, 8]\n"
     ]
    }
   ],
   "source": [
    "xs = [1,2,3,4]\n",
    "twise_xs = [double(x) for x in xs]\n",
    "print(twise_xs)"
   ]
  },
  {
   "cell_type": "code",
   "execution_count": 24,
   "id": "25a551e9",
   "metadata": {},
   "outputs": [
    {
     "data": {
      "text/plain": [
       "<map at 0x29acac611c0>"
      ]
     },
     "execution_count": 24,
     "metadata": {},
     "output_type": "execute_result"
    }
   ],
   "source": [
    "xs = [1,2,3,4]\n",
    "list_doubler = partial(map, double)\n",
    "twice_xs = list_doubler(xs)\n",
    "twice_xs"
   ]
  },
  {
   "cell_type": "code",
   "execution_count": 26,
   "id": "1403f69d",
   "metadata": {},
   "outputs": [
    {
     "name": "stdout",
     "output_type": "stream",
     "text": [
      "<map object at 0x0000029ACAC61220>\n"
     ]
    }
   ],
   "source": [
    "def multiply(x,y): return x*y\n",
    "products = map(multiply,[1,2], [4,5])\n",
    "print(products)"
   ]
  },
  {
   "cell_type": "code",
   "execution_count": 27,
   "id": "ce220eb1",
   "metadata": {},
   "outputs": [],
   "source": [
    "def is_even(x):\n",
    "    return x % 2 == 0\n"
   ]
  },
  {
   "cell_type": "code",
   "execution_count": null,
   "id": "43dc96e9",
   "metadata": {},
   "outputs": [],
   "source": [
    "x_evens = filter(is_even, xs)"
   ]
  },
  {
   "cell_type": "code",
   "execution_count": 1,
   "id": "856fd610",
   "metadata": {},
   "outputs": [
    {
     "name": "stdout",
     "output_type": "stream",
     "text": [
      "0\n",
      "1\n",
      "2\n",
      "3\n",
      "4\n",
      "5\n",
      "6\n",
      "7\n",
      "8\n",
      "9\n"
     ]
    }
   ],
   "source": [
    "for x in range(10):\n",
    "    print(x)"
   ]
  },
  {
   "cell_type": "code",
   "execution_count": 11,
   "id": "54313deb",
   "metadata": {},
   "outputs": [
    {
     "name": "stdout",
     "output_type": "stream",
     "text": [
      "[30, 54, 29, 58, 42, 36]\n"
     ]
    }
   ],
   "source": [
    "lottery_numbers = range(60)\n",
    "winnings_numbers = random.sample(lottery_numbers, 6)\n",
    "print(winnings_numbers)"
   ]
  },
  {
   "cell_type": "code",
   "execution_count": 1,
   "id": "07269cd7",
   "metadata": {},
   "outputs": [
    {
     "name": "stdout",
     "output_type": "stream",
     "text": [
      "Collecting jupyterthemes\n",
      "  Downloading jupyterthemes-0.20.0-py2.py3-none-any.whl (7.0 MB)\n",
      "Requirement already satisfied: ipython>=5.4.1 in c:\\users\\josh\\anaconda3\\lib\\site-packages (from jupyterthemes) (7.22.0)\n",
      "Requirement already satisfied: matplotlib>=1.4.3 in c:\\users\\josh\\anaconda3\\lib\\site-packages (from jupyterthemes) (3.3.4)\n",
      "Requirement already satisfied: notebook>=5.6.0 in c:\\users\\josh\\anaconda3\\lib\\site-packages (from jupyterthemes) (6.3.0)\n",
      "Requirement already satisfied: jupyter-core in c:\\users\\josh\\anaconda3\\lib\\site-packages (from jupyterthemes) (4.7.1)\n",
      "Collecting lesscpy>=0.11.2\n",
      "  Downloading lesscpy-0.15.0-py2.py3-none-any.whl (46 kB)\n",
      "Requirement already satisfied: traitlets>=4.2 in c:\\users\\josh\\anaconda3\\lib\\site-packages (from ipython>=5.4.1->jupyterthemes) (5.0.5)\n",
      "Requirement already satisfied: prompt-toolkit!=3.0.0,!=3.0.1,<3.1.0,>=2.0.0 in c:\\users\\josh\\anaconda3\\lib\\site-packages (from ipython>=5.4.1->jupyterthemes) (3.0.17)\n",
      "Requirement already satisfied: colorama in c:\\users\\josh\\anaconda3\\lib\\site-packages (from ipython>=5.4.1->jupyterthemes) (0.4.4)\n",
      "Requirement already satisfied: jedi>=0.16 in c:\\users\\josh\\anaconda3\\lib\\site-packages (from ipython>=5.4.1->jupyterthemes) (0.17.2)\n",
      "Requirement already satisfied: pygments in c:\\users\\josh\\anaconda3\\lib\\site-packages (from ipython>=5.4.1->jupyterthemes) (2.8.1)\n",
      "Requirement already satisfied: decorator in c:\\users\\josh\\anaconda3\\lib\\site-packages (from ipython>=5.4.1->jupyterthemes) (5.0.6)\n",
      "Requirement already satisfied: setuptools>=18.5 in c:\\users\\josh\\anaconda3\\lib\\site-packages (from ipython>=5.4.1->jupyterthemes) (52.0.0.post20210125)\n",
      "Requirement already satisfied: pickleshare in c:\\users\\josh\\anaconda3\\lib\\site-packages (from ipython>=5.4.1->jupyterthemes) (0.7.5)\n",
      "Requirement already satisfied: backcall in c:\\users\\josh\\anaconda3\\lib\\site-packages (from ipython>=5.4.1->jupyterthemes) (0.2.0)\n",
      "Requirement already satisfied: parso<0.8.0,>=0.7.0 in c:\\users\\josh\\anaconda3\\lib\\site-packages (from jedi>=0.16->ipython>=5.4.1->jupyterthemes) (0.7.0)\n",
      "Requirement already satisfied: ply in c:\\users\\josh\\anaconda3\\lib\\site-packages (from lesscpy>=0.11.2->jupyterthemes) (3.11)\n",
      "Requirement already satisfied: six in c:\\users\\josh\\anaconda3\\lib\\site-packages (from lesscpy>=0.11.2->jupyterthemes) (1.15.0)\n",
      "Requirement already satisfied: python-dateutil>=2.1 in c:\\users\\josh\\anaconda3\\lib\\site-packages (from matplotlib>=1.4.3->jupyterthemes) (2.8.1)\n",
      "Requirement already satisfied: numpy>=1.15 in c:\\users\\josh\\anaconda3\\lib\\site-packages (from matplotlib>=1.4.3->jupyterthemes) (1.20.1)\n",
      "Requirement already satisfied: cycler>=0.10 in c:\\users\\josh\\anaconda3\\lib\\site-packages (from matplotlib>=1.4.3->jupyterthemes) (0.10.0)\n",
      "Requirement already satisfied: kiwisolver>=1.0.1 in c:\\users\\josh\\anaconda3\\lib\\site-packages (from matplotlib>=1.4.3->jupyterthemes) (1.3.1)\n",
      "Requirement already satisfied: pyparsing!=2.0.4,!=2.1.2,!=2.1.6,>=2.0.3 in c:\\users\\josh\\anaconda3\\lib\\site-packages (from matplotlib>=1.4.3->jupyterthemes) (2.4.7)\n",
      "Requirement already satisfied: pillow>=6.2.0 in c:\\users\\josh\\anaconda3\\lib\\site-packages (from matplotlib>=1.4.3->jupyterthemes) (8.2.0)\n",
      "Requirement already satisfied: jupyter-client>=5.3.4 in c:\\users\\josh\\anaconda3\\lib\\site-packages (from notebook>=5.6.0->jupyterthemes) (6.1.12)\n",
      "Requirement already satisfied: nbconvert in c:\\users\\josh\\anaconda3\\lib\\site-packages (from notebook>=5.6.0->jupyterthemes) (6.0.7)\n",
      "Requirement already satisfied: pyzmq>=17 in c:\\users\\josh\\anaconda3\\lib\\site-packages (from notebook>=5.6.0->jupyterthemes) (20.0.0)\n",
      "Requirement already satisfied: ipython-genutils in c:\\users\\josh\\anaconda3\\lib\\site-packages (from notebook>=5.6.0->jupyterthemes) (0.2.0)\n",
      "Requirement already satisfied: Send2Trash>=1.5.0 in c:\\users\\josh\\anaconda3\\lib\\site-packages (from notebook>=5.6.0->jupyterthemes) (1.5.0)\n",
      "Requirement already satisfied: nbformat in c:\\users\\josh\\anaconda3\\lib\\site-packages (from notebook>=5.6.0->jupyterthemes) (5.1.3)\n",
      "Requirement already satisfied: ipykernel in c:\\users\\josh\\anaconda3\\lib\\site-packages (from notebook>=5.6.0->jupyterthemes) (5.3.4)\n",
      "Requirement already satisfied: tornado>=6.1 in c:\\users\\josh\\anaconda3\\lib\\site-packages (from notebook>=5.6.0->jupyterthemes) (6.1)\n",
      "Requirement already satisfied: prometheus-client in c:\\users\\josh\\anaconda3\\lib\\site-packages (from notebook>=5.6.0->jupyterthemes) (0.10.1)\n",
      "Requirement already satisfied: jinja2 in c:\\users\\josh\\anaconda3\\lib\\site-packages (from notebook>=5.6.0->jupyterthemes) (2.11.3)\n",
      "Requirement already satisfied: terminado>=0.8.3 in c:\\users\\josh\\anaconda3\\lib\\site-packages (from notebook>=5.6.0->jupyterthemes) (0.9.4)\n",
      "Requirement already satisfied: argon2-cffi in c:\\users\\josh\\anaconda3\\lib\\site-packages (from notebook>=5.6.0->jupyterthemes) (20.1.0)\n",
      "Requirement already satisfied: pywin32>=1.0 in c:\\users\\josh\\anaconda3\\lib\\site-packages (from jupyter-core->jupyterthemes) (227)\n",
      "Requirement already satisfied: wcwidth in c:\\users\\josh\\anaconda3\\lib\\site-packages (from prompt-toolkit!=3.0.0,!=3.0.1,<3.1.0,>=2.0.0->ipython>=5.4.1->jupyterthemes) (0.2.5)\n",
      "Requirement already satisfied: pywinpty>=0.5 in c:\\users\\josh\\anaconda3\\lib\\site-packages (from terminado>=0.8.3->notebook>=5.6.0->jupyterthemes) (0.5.7)\n",
      "Requirement already satisfied: cffi>=1.0.0 in c:\\users\\josh\\anaconda3\\lib\\site-packages (from argon2-cffi->notebook>=5.6.0->jupyterthemes) (1.14.5)\n",
      "Requirement already satisfied: pycparser in c:\\users\\josh\\anaconda3\\lib\\site-packages (from cffi>=1.0.0->argon2-cffi->notebook>=5.6.0->jupyterthemes) (2.20)\n",
      "Requirement already satisfied: MarkupSafe>=0.23 in c:\\users\\josh\\anaconda3\\lib\\site-packages (from jinja2->notebook>=5.6.0->jupyterthemes) (1.1.1)\n",
      "Requirement already satisfied: bleach in c:\\users\\josh\\anaconda3\\lib\\site-packages (from nbconvert->notebook>=5.6.0->jupyterthemes) (3.3.0)\n",
      "Requirement already satisfied: defusedxml in c:\\users\\josh\\anaconda3\\lib\\site-packages (from nbconvert->notebook>=5.6.0->jupyterthemes) (0.7.1)\n",
      "Requirement already satisfied: entrypoints>=0.2.2 in c:\\users\\josh\\anaconda3\\lib\\site-packages (from nbconvert->notebook>=5.6.0->jupyterthemes) (0.3)\n",
      "Requirement already satisfied: testpath in c:\\users\\josh\\anaconda3\\lib\\site-packages (from nbconvert->notebook>=5.6.0->jupyterthemes) (0.4.4)\n",
      "Requirement already satisfied: nbclient<0.6.0,>=0.5.0 in c:\\users\\josh\\anaconda3\\lib\\site-packages (from nbconvert->notebook>=5.6.0->jupyterthemes) (0.5.3)\n",
      "Requirement already satisfied: jupyterlab-pygments in c:\\users\\josh\\anaconda3\\lib\\site-packages (from nbconvert->notebook>=5.6.0->jupyterthemes) (0.1.2)\n",
      "Requirement already satisfied: mistune<2,>=0.8.1 in c:\\users\\josh\\anaconda3\\lib\\site-packages (from nbconvert->notebook>=5.6.0->jupyterthemes) (0.8.4)\n",
      "Requirement already satisfied: pandocfilters>=1.4.1 in c:\\users\\josh\\anaconda3\\lib\\site-packages (from nbconvert->notebook>=5.6.0->jupyterthemes) (1.4.3)\n",
      "Requirement already satisfied: nest-asyncio in c:\\users\\josh\\anaconda3\\lib\\site-packages (from nbclient<0.6.0,>=0.5.0->nbconvert->notebook>=5.6.0->jupyterthemes) (1.5.1)\n",
      "Requirement already satisfied: async-generator in c:\\users\\josh\\anaconda3\\lib\\site-packages (from nbclient<0.6.0,>=0.5.0->nbconvert->notebook>=5.6.0->jupyterthemes) (1.10)\n",
      "Requirement already satisfied: jsonschema!=2.5.0,>=2.4 in c:\\users\\josh\\anaconda3\\lib\\site-packages (from nbformat->notebook>=5.6.0->jupyterthemes) (3.2.0)\n",
      "Requirement already satisfied: pyrsistent>=0.14.0 in c:\\users\\josh\\anaconda3\\lib\\site-packages (from jsonschema!=2.5.0,>=2.4->nbformat->notebook>=5.6.0->jupyterthemes) (0.17.3)\n",
      "Requirement already satisfied: attrs>=17.4.0 in c:\\users\\josh\\anaconda3\\lib\\site-packages (from jsonschema!=2.5.0,>=2.4->nbformat->notebook>=5.6.0->jupyterthemes) (20.3.0)\n",
      "Requirement already satisfied: packaging in c:\\users\\josh\\anaconda3\\lib\\site-packages (from bleach->nbconvert->notebook>=5.6.0->jupyterthemes) (20.9)\n",
      "Requirement already satisfied: webencodings in c:\\users\\josh\\anaconda3\\lib\\site-packages (from bleach->nbconvert->notebook>=5.6.0->jupyterthemes) (0.5.1)\n",
      "Installing collected packages: lesscpy, jupyterthemes\n",
      "Successfully installed jupyterthemes-0.20.0 lesscpy-0.15.0\n"
     ]
    }
   ],
   "source": [
    "import sys\n",
    "!{sys.executable} -m pip install jupyterthemes"
   ]
  },
  {
   "cell_type": "code",
   "execution_count": 1,
   "id": "a47c4845",
   "metadata": {},
   "outputs": [
    {
     "name": "stdout",
     "output_type": "stream",
     "text": [
      "[42, 0, 90, 17, 76]\n"
     ]
    }
   ],
   "source": [
    "import random\n",
    "lottery  = range(100)\n",
    "winning = random.sample(lottery, 5)\n",
    "print(winning)"
   ]
  },
  {
   "cell_type": "code",
   "execution_count": 10,
   "id": "a778cc39",
   "metadata": {},
   "outputs": [
    {
     "name": "stdout",
     "output_type": "stream",
     "text": [
      "<map object at 0x0000019AD7D66AF0>\n"
     ]
    }
   ],
   "source": [
    "def multiple(x, y): return x*y\n",
    "products = map(multiple, [3, 45], [5, 9])\n",
    "print(products)"
   ]
  },
  {
   "cell_type": "code",
   "execution_count": 14,
   "id": "909f8e13",
   "metadata": {},
   "outputs": [
    {
     "name": "stdout",
     "output_type": "stream",
     "text": [
      "<filter object at 0x0000019AD7D66CD0>\n"
     ]
    }
   ],
   "source": [
    "from functools import partial\n",
    "xs = [2,4,5,6,3,]\n",
    "def is_even(x):\n",
    "    return x % 2 == 0\n",
    "x_even = filter(is_even, xs)\n",
    "list_evener = partial(filter, is_even)\n",
    "x_even = list_evener(xs)\n",
    "print(x_even)"
   ]
  },
  {
   "cell_type": "code",
   "execution_count": 19,
   "id": "7a056b6a",
   "metadata": {},
   "outputs": [
    {
     "name": "stdout",
     "output_type": "stream",
     "text": [
      "0 jide\n",
      "1 pholly\n",
      "2 Hawa\n",
      "3 Abbass\n"
     ]
    }
   ],
   "source": [
    "names = (\"jide\", \"pholly\", \"Hawa\", \"Abbass\")\n",
    "for i, j in enumerate(names):\n",
    "    print(i, j)"
   ]
  },
  {
   "cell_type": "markdown",
   "id": "0ee65a06",
   "metadata": {},
   "source": [
    "## Zip and Argument Unpacking"
   ]
  },
  {
   "cell_type": "code",
   "execution_count": 21,
   "id": "71a44612",
   "metadata": {},
   "outputs": [
    {
     "data": {
      "text/plain": [
       "<zip at 0x19ad7e19ec0>"
      ]
     },
     "execution_count": 21,
     "metadata": {},
     "output_type": "execute_result"
    }
   ],
   "source": [
    "list1 = [\"a\", \"b\", \"c\"]\n",
    "list2 = [1, 2, 3]\n",
    "zip(list1, list2)\n"
   ]
  },
  {
   "cell_type": "code",
   "execution_count": null,
   "id": "7da32e21",
   "metadata": {},
   "outputs": [],
   "source": []
  }
 ],
 "metadata": {
  "kernelspec": {
   "display_name": "Python 3",
   "language": "python",
   "name": "python3"
  },
  "language_info": {
   "codemirror_mode": {
    "name": "ipython",
    "version": 3
   },
   "file_extension": ".py",
   "mimetype": "text/x-python",
   "name": "python",
   "nbconvert_exporter": "python",
   "pygments_lexer": "ipython3",
   "version": "3.8.8"
  }
 },
 "nbformat": 4,
 "nbformat_minor": 5
}
