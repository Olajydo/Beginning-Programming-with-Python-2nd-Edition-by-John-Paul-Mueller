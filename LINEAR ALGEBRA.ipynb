{
 "cells": [
  {
   "cell_type": "code",
   "execution_count": 2,
   "id": "eab3abcd",
   "metadata": {},
   "outputs": [],
   "source": [
    "def vector_add(v, w):\n",
    "    return[v_i + w_i for v_i, w_i in zip(v,w)]"
   ]
  },
  {
   "cell_type": "code",
   "execution_count": 3,
   "id": "d0c07101",
   "metadata": {},
   "outputs": [],
   "source": [
    "def vector_subtract(v, w):\n",
    "    return[v_i - w_i for v_i, w_i in zip(v,w)]"
   ]
  },
  {
   "cell_type": "code",
   "execution_count": 24,
   "id": "1d41dfb8",
   "metadata": {},
   "outputs": [
    {
     "name": "stdout",
     "output_type": "stream",
     "text": [
      "[12, 20, 7, 62]\n"
     ]
    }
   ],
   "source": [
    "import random\n",
    "lottery = range(70)\n",
    "winning = random.sample(lottery, 4)\n",
    "print(winning)"
   ]
  },
  {
   "cell_type": "code",
   "execution_count": 1,
   "id": "cad82a86",
   "metadata": {},
   "outputs": [
    {
     "name": "stdout",
     "output_type": "stream",
     "text": [
      "[1, 2, 3]\n"
     ]
    }
   ],
   "source": [
    "A= [[1,2,3],\n",
    "   [4,5,6]]\n",
    "B = [[1, 2],\n",
    "    [3, 4],\n",
    "    [5, 6]]\n",
    "print(A[0])"
   ]
  },
  {
   "cell_type": "code",
   "execution_count": 2,
   "id": "ea1d99df",
   "metadata": {},
   "outputs": [],
   "source": [
    "def shape(A):\n",
    "    num_rows = len(A)\n",
    "    num_cols = len(A[0]) if A else 0\n",
    "    return num_rows, num_cols"
   ]
  },
  {
   "cell_type": "code",
   "execution_count": 17,
   "id": "cf65f646",
   "metadata": {},
   "outputs": [
    {
     "name": "stdout",
     "output_type": "stream",
     "text": [
      "[[0, 0, 0, 0, 0, 0], [0, 1, 0, 0, 0, 0], [0, 0, 2, 0, 0, 0], [0, 0, 0, 3, 0, 0], [0, 0, 0, 0, 4, 0], [0, 0, 0, 0, 0, 5]]\n"
     ]
    }
   ],
   "source": [
    "def make_matrix(num_rows, num_cols, entry_fn):\n",
    "    return[[entry_fn(i, j)\n",
    "           for i in range(num_cols)]\n",
    "          for j in range(num_rows)]\n",
    "\n",
    "\n",
    "def is_diagonal(i, j):\n",
    "    return i if i == j else 0\n",
    "\n",
    "identity_matrix = make_matrix(6, 6, is_diagonal)\n",
    "print(identity_matrix)"
   ]
  },
  {
   "cell_type": "code",
   "execution_count": 9,
   "id": "cf122e5b",
   "metadata": {},
   "outputs": [
    {
     "name": "stdout",
     "output_type": "stream",
     "text": [
      "4\n"
     ]
    }
   ],
   "source": [
    "print(A[1][0])"
   ]
  },
  {
   "cell_type": "code",
   "execution_count": 16,
   "id": "8b05202f",
   "metadata": {},
   "outputs": [
    {
     "name": "stdout",
     "output_type": "stream",
     "text": [
      "[[1, 0, 0, 0], [0, 1, 0, 0], [0, 0, 1, 0], [0, 0, 0, 1]]\n"
     ]
    }
   ],
   "source": [
    "def another_matrix(num_rows, num_cols, entry_fn):\n",
    "    return[[entry_fn(i, j)\n",
    "           for i in range(num_rows)]\n",
    "          for j in range(num_cols)]\n",
    "\n",
    "def diagonal(i, j):\n",
    "    return 1 if j == i else 0\n",
    "\n",
    "\n",
    "one_more = another_matrix(4, 4, diagonal)\n",
    "print(one_more)"
   ]
  },
  {
   "cell_type": "code",
   "execution_count": 18,
   "id": "903e7948",
   "metadata": {},
   "outputs": [
    {
     "name": "stdout",
     "output_type": "stream",
     "text": [
      "Counter({100: 1, 49: 1, 41: 1, 40: 1, 25: 1})\n"
     ]
    }
   ],
   "source": [
    "from collections import Counter\n",
    "num_friends = [100, 49, 41, 40, 25]\n",
    "friends_count = Counter(num_friends)\n",
    "print(friends_count)"
   ]
  },
  {
   "cell_type": "code",
   "execution_count": null,
   "id": "97bdb7ef",
   "metadata": {},
   "outputs": [],
   "source": []
  },
  {
   "cell_type": "code",
   "execution_count": null,
   "id": "9e122e82",
   "metadata": {},
   "outputs": [],
   "source": []
  },
  {
   "cell_type": "code",
   "execution_count": null,
   "id": "0ec6992b",
   "metadata": {},
   "outputs": [],
   "source": []
  },
  {
   "cell_type": "code",
   "execution_count": null,
   "id": "4ab84f6e",
   "metadata": {},
   "outputs": [],
   "source": []
  },
  {
   "cell_type": "code",
   "execution_count": null,
   "id": "9d42d3fc",
   "metadata": {},
   "outputs": [],
   "source": []
  },
  {
   "cell_type": "code",
   "execution_count": null,
   "id": "a3593ece",
   "metadata": {},
   "outputs": [],
   "source": []
  },
  {
   "cell_type": "code",
   "execution_count": null,
   "id": "19cbbab2",
   "metadata": {},
   "outputs": [],
   "source": []
  },
  {
   "cell_type": "code",
   "execution_count": null,
   "id": "c868fceb",
   "metadata": {},
   "outputs": [],
   "source": []
  },
  {
   "cell_type": "code",
   "execution_count": null,
   "id": "6598225d",
   "metadata": {},
   "outputs": [],
   "source": []
  }
 ],
 "metadata": {
  "kernelspec": {
   "display_name": "Python 3",
   "language": "python",
   "name": "python3"
  },
  "language_info": {
   "codemirror_mode": {
    "name": "ipython",
    "version": 3
   },
   "file_extension": ".py",
   "mimetype": "text/x-python",
   "name": "python",
   "nbconvert_exporter": "python",
   "pygments_lexer": "ipython3",
   "version": "3.8.8"
  }
 },
 "nbformat": 4,
 "nbformat_minor": 5
}
